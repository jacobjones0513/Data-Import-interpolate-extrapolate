{
 "cells": [
  {
   "cell_type": "code",
   "execution_count": 11,
   "metadata": {},
   "outputs": [],
   "source": [
    "import numpy as np\n",
    "import matplotlib.pyplot as plt \n",
    "\n",
    "#using numpy to load data from text.\n",
    "info = np.loadtxt(fname='co2_mm_mlo.txt')\n",
    "\n",
    "#Calling and defining the rows that I wish to use.\n",
    "decDate=np.copy(info[:,2])\n",
    "trend=np.copy(info[:,5])\n",
    "\n",
    "#Arranging the data into the desired format.\n",
    "decDate_trend = np.stack((decDate,trend), axis=1)\n",
    "newfile=np.savetxt('decDatetrend.txt',decDate_trend,fmt='%.3f')"
   ]
  },
  {
   "cell_type": "code",
   "execution_count": null,
   "metadata": {
    "collapsed": true
   },
   "outputs": [],
   "source": []
  }
 ],
 "metadata": {
  "kernelspec": {
   "display_name": "Python 3",
   "language": "python",
   "name": "python3"
  },
  "language_info": {
   "codemirror_mode": {
    "name": "ipython",
    "version": 3
   },
   "file_extension": ".py",
   "mimetype": "text/x-python",
   "name": "python",
   "nbconvert_exporter": "python",
   "pygments_lexer": "ipython3",
   "version": "3.6.3"
  }
 },
 "nbformat": 4,
 "nbformat_minor": 1
}
