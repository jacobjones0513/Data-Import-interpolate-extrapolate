{
 "cells": [
  {
   "cell_type": "code",
   "execution_count": 7,
   "metadata": {},
   "outputs": [],
   "source": [
    "import numpy as np\n",
    "import matplotlib.pyplot as plt \n",
    "\n",
    "#using numpy to load data from text.\n",
    "info = np.loadtxt(fname='co2_mm_mlo.txt')\n",
    "\n",
    "#I am calling the columns of the data using numpy and assigning them\n",
    "#a name.\n",
    "decDate=np.copy(info[:,2])\n",
    "inter=np.copy(info[:,4])\n",
    "trend=np.copy(info[:,5])\n",
    "err = []\n",
    "\n",
    "#I am setting the range of i by counting the amount of data points in \n",
    "#one of the columns then calculating the difference between interpolation and trend\n",
    "#for each data point.\n",
    "length=len(info[:,4])\n",
    "for i in range (length):\n",
    "    err.append(inter[i]-trend[i])\n",
    "\n",
    "# using matplotlib I am plotting the calculated error versus time graph\n",
    "# and labeling the graph appropriately.\n",
    "plt.scatter(decDate,err)    \n",
    "plt.xlabel('Date')\n",
    "plt.ylabel('Error')\n",
    "plt.title('Interpolated/Trend Difference')\n",
    "plt.show()\n"
   ]
  },
  {
   "cell_type": "code",
   "execution_count": null,
   "metadata": {
    "collapsed": true
   },
   "outputs": [],
   "source": []
  }
 ],
 "metadata": {
  "kernelspec": {
   "display_name": "Python 3",
   "language": "python",
   "name": "python3"
  },
  "language_info": {
   "codemirror_mode": {
    "name": "ipython",
    "version": 3
   },
   "file_extension": ".py",
   "mimetype": "text/x-python",
   "name": "python",
   "nbconvert_exporter": "python",
   "pygments_lexer": "ipython3",
   "version": "3.6.3"
  }
 },
 "nbformat": 4,
 "nbformat_minor": 1
}
