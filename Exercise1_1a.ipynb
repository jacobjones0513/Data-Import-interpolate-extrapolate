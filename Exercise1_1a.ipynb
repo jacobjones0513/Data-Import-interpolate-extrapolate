{
 "cells": [
  {
   "cell_type": "code",
   "execution_count": 16,
   "metadata": {},
   "outputs": [],
   "source": [
    "import numpy as np\n",
    "import matplotlib.pyplot as plt \n",
    "\n",
    "info = np.loadtxt(fname='co2_mm_mlo.txt')\n",
    "\n",
    "#print(info[0])\n",
    "#I am calling the first 60 values listed in columns 1 and 2 in order to plot them \n",
    "#against each other.\n",
    "decDate=np.copy(info[:60,2])\n",
    "avgCO2=np.copy(info[:60,3])\n",
    "\n",
    "plt.scatter(decDate,avgCO2)\n",
    "plt.ylim(310,330)\n",
    "plt.xlabel('Date')\n",
    "plt.ylabel('Avg CO2')\n",
    "plt.title('CO2 Level')\n",
    "plt.show()\n",
    "\n",
    "#The data points appear as a wave that tends to increase over time.\n",
    "\n",
    "\n",
    "\n",
    "\n",
    "\n",
    "\n"
   ]
  },
  {
   "cell_type": "code",
   "execution_count": null,
   "metadata": {
    "collapsed": true
   },
   "outputs": [],
   "source": []
  },
  {
   "cell_type": "code",
   "execution_count": null,
   "metadata": {
    "collapsed": true
   },
   "outputs": [],
   "source": []
  }
 ],
 "metadata": {
  "anaconda-cloud": {},
  "kernelspec": {
   "display_name": "Python 3",
   "language": "python",
   "name": "python3"
  },
  "language_info": {
   "codemirror_mode": {
    "name": "ipython",
    "version": 3
   },
   "file_extension": ".py",
   "mimetype": "text/x-python",
   "name": "python",
   "nbconvert_exporter": "python",
   "pygments_lexer": "ipython3",
   "version": "3.6.3"
  }
 },
 "nbformat": 4,
 "nbformat_minor": 1
}
